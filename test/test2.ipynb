{
 "cells": [
  {
   "cell_type": "code",
   "execution_count": 3,
   "metadata": {},
   "outputs": [
    {
     "data": {
      "image/png": "[encoded data removed]",
      "text/plain": [
       "<Figure size 576x576 with 2 Axes>"
      ]
     },
     "metadata": {
      "needs_background": "light"
     },
     "output_type": "display_data"
    },
    {
     "name": "stdout",
     "output_type": "stream",
     "text": [
      "Grid map: [[0 0 0 1 0 0 0 0 0 0 0 0 0 0 0 0 0 0 0 0 0 1 0 0 0 0 0 0 0 0]\n",
      " [1 0 0 0 0 0 0 0 0 0 0 0 0 0 0 0 0 0 0 0 0 0 0 0 0 0 0 0 0 0]\n",
      " [0 0 0 0 0 0 0 0 0 0 0 1 0 0 0 0 1 0 0 0 0 0 0 0 0 0 0 0 0 0]\n",
      " [0 0 0 0 0 0 0 0 0 0 0 0 0 0 0 1 0 0 0 1 0 0 0 0 0 0 0 0 0 0]\n",
      " [0 0 0 0 0 0 0 0 0 0 0 0 0 0 0 0 0 0 0 0 0 0 0 0 0 0 0 1 0 0]\n",
      " [0 0 0 0 0 0 0 0 0 1 0 0 0 0 0 0 0 0 0 0 0 0 0 0 0 0 0 0 0 0]\n",
      " [0 1 0 0 0 0 0 0 0 0 0 0 0 0 1 0 0 1 0 0 0 0 0 0 0 1 0 0 0 1]\n",
      " [0 0 0 1 0 0 0 0 0 0 1 0 0 0 0 0 0 0 0 0 0 0 0 0 0 0 0 0 1 0]\n",
      " [0 1 0 0 0 0 0 0 0 1 0 0 0 0 0 0 1 0 0 0 0 0 0 0 0 0 0 0 1 1]\n",
      " [0 0 0 0 0 0 1 0 0 0 0 0 1 0 0 1 1 0 0 1 1 1 0 0 0 0 0 0 0 0]\n",
      " [0 0 0 0 0 0 0 1 0 0 0 0 1 0 0 0 0 0 0 0 0 1 0 0 0 0 0 0 0 0]\n",
      " [0 0 0 1 0 1 0 0 0 0 0 0 0 0 0 0 0 0 1 0 0 0 0 0 0 0 0 0 0 0]\n",
      " [0 1 0 0 1 0 0 0 0 0 0 0 0 0 0 0 0 0 0 0 0 0 0 0 0 0 0 0 0 0]\n",
      " [0 1 0 0 0 0 0 1 0 0 0 0 1 0 0 0 0 0 0 0 0 0 0 0 1 1 0 0 0 0]\n",
      " [1 0 0 0 0 0 0 0 0 0 1 0 0 0 0 0 0 0 1 0 0 0 1 0 1 1 0 0 0 0]\n",
      " [0 0 0 0 0 0 0 1 0 0 0 0 0 0 0 0 0 1 0 0 0 0 0 0 0 0 0 0 0 0]\n",
      " [1 0 0 0 1 0 0 1 0 0 0 0 0 0 0 0 0 0 0 0 0 0 0 0 0 0 0 0 0 1]\n",
      " [1 0 0 0 0 0 0 1 0 0 0 0 0 1 0 1 0 0 0 0 0 0 0 0 0 0 0 1 0 0]\n",
      " [0 0 0 0 0 0 0 0 0 0 0 1 1 0 0 0 0 0 1 1 0 0 0 0 0 0 0 0 0 0]\n",
      " [0 0 0 0 0 0 0 1 0 0 0 0 0 0 0 0 0 0 0 0 0 0 0 0 0 0 0 0 0 0]\n",
      " [0 0 0 0 1 0 0 0 0 0 0 0 0 0 0 0 0 0 0 0 0 0 0 0 0 0 1 0 0 0]\n",
      " [0 0 0 0 0 0 0 0 0 0 0 0 0 0 0 0 0 0 1 0 0 0 0 0 1 0 0 0 0 0]\n",
      " [0 0 1 0 0 0 1 0 0 1 0 0 0 0 0 0 0 0 0 0 0 0 0 0 1 0 0 0 0 0]\n",
      " [0 0 1 0 0 0 0 0 0 0 0 0 0 0 0 0 0 0 0 1 0 0 0 0 0 0 1 0 0 0]\n",
      " [0 0 0 0 0 0 0 0 0 0 0 0 0 0 0 0 0 0 0 0 0 0 0 0 0 1 0 0 0 0]\n",
      " [0 0 0 0 0 0 0 0 0 0 0 0 0 0 0 0 0 0 1 1 0 1 0 0 0 0 0 1 0 0]\n",
      " [0 1 0 0 0 0 0 0 0 0 0 0 0 0 0 1 0 0 0 1 0 0 0 1 0 0 0 0 0 0]\n",
      " [0 0 0 0 1 0 0 0 0 0 1 0 0 0 0 0 0 0 0 0 0 0 0 0 0 1 0 0 0 0]\n",
      " [0 0 0 0 0 0 0 0 0 0 0 0 0 0 0 0 0 0 0 0 0 0 0 0 0 0 0 0 0 0]\n",
      " [0 0 0 0 1 0 0 0 0 1 0 0 0 1 0 0 0 0 0 0 0 0 0 0 0 0 0 0 0 0]]\n",
      "False\n"
     ]
    }
   ],
   "source": [
    "import numpy as np\n",
    "import matplotlib.pyplot as plt\n",
    "import random\n",
    "from PIL import Image\n",
    "\n",
    "# This class contains the obstacle map of the environement and a representation in NP Array, with some functionality to visualise\n",
    "\n",
    "class ObstacleMap:\n",
    "    def __init__(self, grid_size, obstacle_positions=None):\n",
    "        self.grid_size = grid_size\n",
    "        self.grid = np.zeros((grid_size, grid_size), dtype=int)\n",
    "        self.obstacle_positions = obstacle_positions\n",
    "        self.setup()\n",
    " \n",
    "    def setup(self):\n",
    "        self._set_obstacle(0.1)\n",
    " \n",
    "    def _set_obstacle(self, percentage_of_obstacle):\n",
    "        if self.obstacle_positions is None:\n",
    "            # Fill 10% of the grid with random obstacles\n",
    "            num_obstacles = int(percentage_of_obstacle * self.grid_size * self.grid_size)\n",
    "            self.obstacle_positions = self._generate_random_obstacles(num_obstacles)\n",
    "        for pos in self.obstacle_positions:\n",
    "            if self.is_valid_position(pos):\n",
    "                self.grid[pos] = 1  # Mark obstacles with 1\n",
    "            else:\n",
    "                print(f\"Warning: Obstacle position {pos} is out of bounds and will be ignored.\")\n",
    " \n",
    " \n",
    "    def _generate_random_obstacles(self, num_obstacles):\n",
    "        \"\"\"Generate random obstacle positions.\"\"\"\n",
    "        all_positions = [(x, y) for x in range(self.grid_size) for y in range(self.grid_size)]\n",
    "        selected_indices = np.random.choice(len(all_positions), num_obstacles, replace=False)\n",
    "        return [all_positions[i] for i in selected_indices]\n",
    "    def is_valid_position(self, pos):\n",
    "        return 0 <= pos[0] < self.grid_size and 0 <= pos[1] < self.grid_size\n",
    " \n",
    "    def display_map(self):\n",
    "        \"\"\"Displays the current obstacle map.\"\"\"\n",
    "        plt.figure(figsize=(8, 8))\n",
    "        plt.imshow(self.grid, cmap='binary', origin='upper')\n",
    "        plt.title(\"2D Obstacle Map\")\n",
    "        plt.colorbar(ticks=[0, 1], label='Grid Status')\n",
    "        plt.xticks(np.arange(-0.5, self.grid_size, 1), [])\n",
    "        plt.yticks(np.arange(-0.5, self.grid_size, 1), [])\n",
    "        plt.grid(color='black', linestyle='-', linewidth=0.5)\n",
    "        plt.show()\n",
    " \n",
    "    def check_obstacle(self, x, y):\n",
    "        \"\"\"Check if a given position (x, y) is an obstacle.\"\"\"\n",
    "        if 0 <= x < self.grid_size and 0 <= y < self.grid_size:\n",
    "            return self.grid[y, x] == 1\n",
    "        else:\n",
    "            raise ValueError(\"Position out of bounds\")\n",
    " \n",
    "    def get_map(self):\n",
    "        return self.grid\n",
    "    def save_obstacle_map(self, file_path):\n",
    "        np.savetxt(file_path, self.grid, fmt='%d', delimiter=',')\n",
    "        print(f\"Obstacle map saved to {file_path}\")\n",
    " \n",
    "    def save_grayscale_image(self, filename):\n",
    "        plt.imshow(self.grid, cmap='gray')\n",
    "        plt.axis('off')  # Turn off axis\n",
    "        plt.savefig(filename, bbox_inches='tight', pad_inches=0, dpi=300)\n",
    "        plt.close()  # Close the figure to free up memory\n",
    " \n",
    " \n",
    "    def load_obstacle_map(self, file_path):\n",
    "        loaded_map = np.loadtxt(file_path, dtype=int, delimiter=',')\n",
    "        print(f\"Obstacle map loaded from {file_path}\")\n",
    "        self.grid = loaded_map\n",
    "        self.grid_size = self.grid.size\n",
    "        return loaded_map\n",
    " \n",
    "    def read_image_to_array(self, file_path):\n",
    "        # Open the image using PIL\n",
    "        with Image.open(file_path) as img:\n",
    "            # Convert the image to a NumPy array\n",
    "            img_array = np.array(img)\n",
    "        self.grid = img_array\n",
    "        self.grid_size = self.grid.size\n",
    "        return img_array\n",
    " \n",
    "if __name__==\"__main__\":\n",
    "    # Example usage\n",
    "    map_size = 30\n",
    "    obstacle_map = ObstacleMap(map_size)\n",
    "    obstacle_map.display_map()\n",
    "    print(\"Grid map:\", obstacle_map.grid)\n",
    "    print(obstacle_map.check_obstacle(1, 1))\n",
    "    current_map = obstacle_map.get_map()\n"
   ]
  },
  {
   "cell_type": "code",
   "execution_count": 4,
   "metadata": {},
   "outputs": [],
   "source": [
    "def spanning_tree_coverage(grid):\n",
    "    rows, cols = len(grid), len(grid[0])\n",
    "    visited = [[False for _ in range(cols)] for _ in range(rows)]\n",
    "    tree = {}\n",
    "    \n",
    "    def dfs(x, y, parent=None):\n",
    "        if x < 0 or x >= rows or y < 0 or y >= cols or visited[x][y] or grid[x][y] == 1:\n",
    "            return 0\n",
    "        \n",
    "        visited[x][y] = True\n",
    "        tree[(x, y)] = []\n",
    "        \n",
    "        max_depth = 0\n",
    "        for dx, dy in [(0, 1), (1, 0), (0, -1), (-1, 0)]:\n",
    "            nx, ny = x + dx, y + dy\n",
    "            depth = dfs(nx, ny, (x, y))\n",
    "            if depth > 0:\n",
    "                tree[(x, y)].append((nx, ny))\n",
    "                max_depth = max(max_depth, depth)\n",
    "        \n",
    "        if parent:\n",
    "            tree[parent].append((x, y))\n",
    "        \n",
    "        return max_depth + 1\n",
    "    \n",
    "    start_x, start_y = find_start(grid)\n",
    "    dfs(start_x, start_y)\n",
    "    \n",
    "    longest_branch = find_longest_branch(tree, start_x, start_y)\n",
    "    return tree, longest_branch\n",
    "\n",
    "def find_start(grid):\n",
    "    for i in range(len(grid)):\n",
    "        for j in range(len(grid[0])):\n",
    "            if grid[i][j] == 0:\n",
    "                return i, j\n",
    "    return 0, 0\n",
    "\n",
    "def find_longest_branch(tree, start_x, start_y):\n",
    "    def dfs_longest(node):\n",
    "        if not tree[node]:\n",
    "            return [node]\n",
    "        \n",
    "        longest = []\n",
    "        for child in tree[node]:\n",
    "            path = dfs_longest(child)\n",
    "            if len(path) > len(longest):\n",
    "                longest = path\n",
    "        \n",
    "        return [node] + longest\n",
    "    \n",
    "    return dfs_longest((start_x, start_y))"
   ]
  },
  {
   "cell_type": "code",
   "execution_count": 5,
   "metadata": {},
   "outputs": [
    {
     "name": "stdout",
     "output_type": "stream",
     "text": [
      "Spanning Tree: {(0, 0): [(0, 1), (0, 1)], (0, 1): [(0, 2), (0, 2)], (0, 2): [(1, 2), (1, 2)], (1, 2): [(1, 3), (1, 3), (1, 1), (1, 1)], (1, 3): [(2, 3), (2, 3)], (2, 3): [(3, 3), (3, 3)], (3, 3): [(3, 2), (3, 2)], (3, 2): [], (1, 1): [(2, 1), (2, 1)], (2, 1): [(2, 0), (2, 0)], (2, 0): [(3, 0), (3, 0)], (3, 0): []}\n",
      "Longest Branch: [(0, 0), (0, 1), (0, 2), (1, 2), (1, 3), (2, 3), (3, 3), (3, 2)]\n"
     ]
    }
   ],
   "source": [
    "grid = [\n",
    "    [0, 0, 0, 1],\n",
    "    [1, 0, 0, 0],\n",
    "    [0, 0, 1, 0],\n",
    "    [0, 1, 0, 0]\n",
    "]\n",
    "\n",
    "tree, longest_branch = spanning_tree_coverage(grid)\n",
    "print(\"Spanning Tree:\", tree)\n",
    "print(\"Longest Branch:\", longest_branch)"
   ]
  },
  {
   "cell_type": "code",
   "execution_count": 6,
   "metadata": {},
   "outputs": [
    {
     "name": "stdout",
     "output_type": "stream",
     "text": [
      "Spanning Tree: {(0, 0): [(0, 1)], (0, 1): [(0, 2), (1, 1)], (0, 2): [(0, 3), (1, 2)], (1, 1): [(2, 1)], (0, 3): [(1, 3)], (1, 2): [], (2, 1): [(3, 1), (2, 0)], (1, 3): [(2, 3)], (3, 1): [(3, 2), (3, 0)], (2, 0): [], (2, 3): [(3, 3)], (3, 2): [], (3, 0): [], (3, 3): []}\n",
      "Longest Branch: [(0, 0), (0, 1), (0, 2), (0, 3), (1, 3), (2, 3), (3, 3)]\n",
      "Grid:  [[0, 0, 0, 0], [1, 0, 0, 0], [0, 0, 1, 0], [0, 0, 0, 0]]\n"
     ]
    }
   ],
   "source": [
    "from collections import deque\n",
    "\n",
    "def bfs_spanning_tree(grid):\n",
    "    rows, cols = len(grid), len(grid[0])\n",
    "    visited = [[False for _ in range(cols)] for _ in range(rows)]\n",
    "    tree = {}\n",
    "    \n",
    "    start_x, start_y = find_start(grid)\n",
    "    queue = deque([(start_x, start_y, None)])\n",
    "    \n",
    "    while queue:\n",
    "        x, y, parent = queue.popleft()\n",
    "        if x < 0 or x >= rows or y < 0 or y >= cols or visited[x][y] or grid[x][y] == 1:\n",
    "            continue\n",
    "        \n",
    "        visited[x][y] = True\n",
    "        tree[(x, y)] = []\n",
    "        if parent:\n",
    "            tree[parent].append((x, y))\n",
    "        \n",
    "        for dx, dy in [(0, 1), (1, 0), (0, -1), (-1, 0)]:\n",
    "            nx, ny = x + dx, y + dy\n",
    "            queue.append((nx, ny, (x, y)))\n",
    "    \n",
    "    return tree, (start_x, start_y)\n",
    "\n",
    "def find_start(grid):\n",
    "    for i in range(len(grid)):\n",
    "        for j in range(len(grid[0])):\n",
    "            if grid[i][j] == 0:\n",
    "                return i, j\n",
    "    return 0, 0\n",
    "\n",
    "def find_longest_branch(tree, start):\n",
    "    def dfs(node):\n",
    "        if not tree[node]:\n",
    "            return [node]\n",
    "        \n",
    "        longest = []\n",
    "        for child in tree[node]:\n",
    "            path = dfs(child)\n",
    "            if len(path) > len(longest):\n",
    "                longest = path\n",
    "        \n",
    "        return [node] + longest\n",
    "\n",
    "    return dfs(start)\n",
    "\n",
    "# Main function to use the algorithm\n",
    "def spanning_tree_coverage(grid):\n",
    "    tree, start = bfs_spanning_tree(grid)\n",
    "    longest_branch = find_longest_branch(tree, start)\n",
    "    return tree, longest_branch\n",
    "\n",
    "# Example usage\n",
    "grid = [\n",
    "    [0, 0, 0, 0],\n",
    "    [1, 0, 0, 0],\n",
    "    [0, 0, 1, 0],\n",
    "    [0, 0, 0, 0]\n",
    "]\n",
    "\n",
    "tree, longest_branch = spanning_tree_coverage(grid)\n",
    "print(\"Spanning Tree:\", tree)\n",
    "print(\"Longest Branch:\", longest_branch)\n",
    "print(\"Grid: \", grid)"
   ]
  },
  {
   "cell_type": "code",
   "execution_count": 10,
   "metadata": {},
   "outputs": [],
   "source": [
    "import numpy as np\n",
    "import matplotlib.pyplot as plt\n",
    "\n",
    "def plot_grid_with_arrows(grid, longest_branch):\n",
    "    # Create a numpy array for the grid representation\n",
    "    grid_array = np.array(grid)\n",
    "    rows, cols = grid_array.shape\n",
    "\n",
    "    # Create a figure and axis for the plot\n",
    "    fig, ax = plt.subplots(figsize=(cols, rows))\n",
    "\n",
    "    # Display the grid with thicker lines\n",
    "    ax.imshow(grid_array, cmap='Greys', extent=(0, cols, 0, rows))\n",
    "\n",
    "    # Prepare data for arrows (quiver)\n",
    "    dx = []\n",
    "    dy = []\n",
    "    x_positions = []\n",
    "    y_positions = []\n",
    "\n",
    "    # Iterate over the longest branch and create arrows\n",
    "    for i in range(len(longest_branch) - 1):\n",
    "        x1, y1 = longest_branch[i]\n",
    "        x2, y2 = longest_branch[i + 1]\n",
    "\n",
    "        # Calculate direction of arrow\n",
    "        dx.append(y2 - y1)  # Change in horizontal direction\n",
    "        dy.append(x1 - x2)  # Change in vertical direction (inverted because of grid orientation)\n",
    "\n",
    "        # Store starting positions for arrows (centers of the cells)\n",
    "        x_positions.append(y1 + 0.5)  # Centering arrow horizontally\n",
    "        y_positions.append(rows - x1 - 0.5)  # Centering arrow vertically (adjusted for inverted Y-axis)\n",
    "\n",
    "    # Plot arrows using quiver, centered in cells\n",
    "    ax.quiver(x_positions, y_positions, dx, dy, angles='xy', scale_units='xy', scale=1, color='red', width=0.01)\n",
    "\n",
    "\n",
    "     # Highlight the start and end points\n",
    "    start_x, start_y = longest_branch[0]\n",
    "    end_x, end_y = longest_branch[-1]\n",
    "\n",
    "    # Mark start with green dot\n",
    "    ax.plot(start_y + 0.5, rows - start_x - 0.5, marker='o', color='green', markersize=10, label='Start')\n",
    "    \n",
    "    # Mark end with black dot\n",
    "    ax.plot(end_y + 0.5, rows - end_x - 0.5, marker='o', color='black', markersize=10, label='End')\n",
    "    # Set labels and title\n",
    "    ax.set_xticks(np.arange(1.0, cols, 1))\n",
    "    ax.set_yticks(np.arange(1.0, rows, 1))\n",
    "    ax.set_xticklabels([])\n",
    "    ax.set_yticklabels([])\n",
    "    ax.set_title('Grid Visualization with Longest Spanning Branch')\n",
    "\n",
    "    # Add thicker grid lines between cells\n",
    "    plt.grid(True, which='both', color='black', linewidth=2)\n",
    "    \n",
    "    # Show the plot\n",
    "    plt.show()\n"
   ]
  },
  {
   "cell_type": "code",
   "execution_count": 11,
   "metadata": {},
   "outputs": [
    {
     "data": {
      "image/png": "[encoded data removed]",
      "text/plain": [
       "<Figure size 288x288 with 1 Axes>"
      ]
     },
     "metadata": {
      "needs_background": "light"
     },
     "output_type": "display_data"
    }
   ],
   "source": [
    "# Call the visualization function\n",
    "plot_grid_with_arrows(grid, longest_branch)"
   ]
  },
  {
   "cell_type": "code",
   "execution_count": 12,
   "metadata": {},
   "outputs": [
    {
     "data": {
      "image/png": "[encoded data removed]",
      "text/plain": [
       "<Figure size 576x576 with 2 Axes>"
      ]
     },
     "metadata": {
      "needs_background": "light"
     },
     "output_type": "display_data"
    },
    {
     "data": {
      "image/png": "[encoded data removed]",
      "text/plain": [
       "<Figure size 720x720 with 1 Axes>"
      ]
     },
     "metadata": {
      "needs_background": "light"
     },
     "output_type": "display_data"
    }
   ],
   "source": [
    "map_size = 10\n",
    "obstacle_map = ObstacleMap(map_size)\n",
    "obstacle_map.display_map()\n",
    "current_map = obstacle_map.get_map()\n",
    "tree, longest_branch = spanning_tree_coverage(current_map)\n",
    "plot_grid_with_arrows(current_map, longest_branch)"
   ]
  },
  {
   "cell_type": "markdown",
   "metadata": {},
   "source": [
    "# To Do:\n",
    "-   Understand how trees work\n",
    "-   How to create a tree data structure\n",
    "-   understand how the spanning tree coverage algorithm works\n",
    "-   implement the spanning tree coverage algorithm\n",
    "-   Test the algorithm'\n",
    "-   Test Genetic Algorithm for the same.\n",
    "-   Test Ant colony optimisation algorithm on the same."
   ]
  },
  {
   "cell_type": "code",
   "execution_count": 14,
   "metadata": {},
   "outputs": [],
   "source": [
    "from collections import deque\n",
    "\n",
    "def bfs_spanning_tree(grid):\n",
    "    rows, cols = len(grid), len(grid[0])\n",
    "    visited = [[False for _ in range(cols)] for _ in range(rows)]\n",
    "    tree = {}\n",
    "    \n",
    "    start_x, start_y = find_start(grid)\n",
    "    queue = deque([(start_x, start_y, None)])\n",
    "    \n",
    "    while queue:\n",
    "        x, y, parent = queue.popleft()\n",
    "        if x < 0 or x >= rows or y < 0 or y >= cols or visited[x][y] or grid[x][y] == 1:\n",
    "            continue\n",
    "        \n",
    "        visited[x][y] = True\n",
    "        tree[(x, y)] = []\n",
    "        if parent:\n",
    "            tree[parent].append((x, y))\n",
    "        \n",
    "        for dx, dy in [(0, 1), (1, 0), (0, -1), (-1, 0)]:\n",
    "            nx, ny = x + dx, y + dy\n",
    "            queue.append((nx, ny, (x, y)))\n",
    "    \n",
    "    return tree, (start_x, start_y)\n",
    "\n",
    "def find_start(grid):\n",
    "    for i in range(len(grid)):\n",
    "        for j in range(len(grid[0])):\n",
    "            if grid[i][j] == 0:\n",
    "                return i, j\n",
    "    return 0, 0\n",
    "\n",
    "def find_longest_branch(tree, start):\n",
    "    def dfs(node):\n",
    "        if not tree[node]:\n",
    "            return [node]\n",
    "        \n",
    "        longest = []\n",
    "        for child in tree[node]:\n",
    "            path = dfs(child)\n",
    "            if len(path) > len(longest):\n",
    "                longest = path\n",
    "        \n",
    "        return [node] + longest\n",
    "\n",
    "    return dfs(start)\n",
    "\n",
    "# Main function to use the algorithm\n",
    "def spanning_tree_coverage(grid):\n",
    "    tree, start = bfs_spanning_tree(grid)\n",
    "    longest_branch = find_longest_branch(tree, start)\n",
    "    return tree, longest_branch"
   ]
  },
  {
   "cell_type": "code",
   "execution_count": 16,
   "metadata": {},
   "outputs": [
    {
     "name": "stdout",
     "output_type": "stream",
     "text": [
      "Spanning Tree: {(0, 0): [(0, 1)], (0, 1): [(0, 2), (1, 1)], (0, 2): [(0, 3), (1, 2)], (1, 1): [(2, 1)], (0, 3): [(1, 3)], (1, 2): [], (2, 1): [(3, 1), (2, 0)], (1, 3): [(2, 3)], (3, 1): [(3, 2), (3, 0)], (2, 0): [], (2, 3): [(3, 3)], (3, 2): [], (3, 0): [], (3, 3): []}\n",
      "Longest Branch: [(0, 0), (0, 1), (0, 2), (0, 3), (1, 3), (2, 3), (3, 3)]\n"
     ]
    },
    {
     "data": {
      "image/png": "[encoded data removed]",
      "text/plain": [
       "<Figure size 288x288 with 1 Axes>"
      ]
     },
     "metadata": {
      "needs_background": "light"
     },
     "output_type": "display_data"
    }
   ],
   "source": [
    "# Example usage\n",
    "grid = [\n",
    "    [0, 0, 0, 0],\n",
    "    [1, 0, 0, 0],\n",
    "    [0, 0, 1, 0],\n",
    "    [0, 0, 0, 0]\n",
    "]\n",
    "\n",
    "grid_1 = [\n",
    "    [0, 0, 0, 0],\n",
    "    [1, 0, 0, 0],\n",
    "    [0, 0, 1, 0],\n",
    "    [0, 0, 1, 0]\n",
    "]\n",
    "\n",
    "tree, longest_branch = spanning_tree_coverage(grid)\n",
    "print(\"Spanning Tree:\", tree)\n",
    "print(\"Longest Branch:\", longest_branch)\n",
    "plot_grid_with_arrows(grid, longest_branch)"
   ]
  }
 ],
 "metadata": {
  "kernelspec": {
   "display_name": "Python 3",
   "language": "python",
   "name": "python3"
  },
  "language_info": {
   "codemirror_mode": {
    "name": "ipython",
    "version": 3
   },
   "file_extension": ".py",
   "mimetype": "text/x-python",
   "name": "python",
   "nbconvert_exporter": "python",
   "pygments_lexer": "ipython3",
   "version": "3.10.12"
  }
 },
 "nbformat": 4,
 "nbformat_minor": 2
}
